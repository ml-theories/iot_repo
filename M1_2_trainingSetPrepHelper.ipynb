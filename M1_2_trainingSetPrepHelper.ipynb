{
 "cells": [
  {
   "cell_type": "markdown",
   "metadata": {},
   "source": [
    "## Importing Libraries"
   ]
  },
  {
   "cell_type": "code",
   "execution_count": null,
   "metadata": {},
   "outputs": [],
   "source": [
    "import pandas as pd\n",
    "import statistics as stats"
   ]
  },
  {
   "cell_type": "markdown",
   "metadata": {},
   "source": [
    "## Importing type1.csv file to verify your code"
   ]
  },
  {
   "cell_type": "code",
   "execution_count": null,
   "metadata": {},
   "outputs": [],
   "source": [
    "df=pd.read_csv('https://raw.githubusercontent.com/diksha-cl/Iot_csv_files/master/type1.csv')"
   ]
  },
  {
   "cell_type": "markdown",
   "metadata": {},
   "source": [
    "## Define the function start_times(DF,window size) \n",
    "This function returns an array of start time of each window."
   ]
  },
  {
   "cell_type": "code",
   "execution_count": null,
   "metadata": {},
   "outputs": [],
   "source": [
    "def start_times(DF, window_size):\n",
    "    start_time = []\n",
    "    activity_start_time = DF['time'].min()\n",
    "    activity_end_time = DF['time'].max()    \n",
    "    \n",
    "    curr_window_start_time = activity_start_time\n",
    "    while(curr_window_start_time < activity_end_time):\n",
    "        curr_window_end_time = curr_window_start_time + window_size\n",
    "        if (curr_window_end_time > activity_end_time):\n",
    "            curr_window_end_time = activity_end_time\n",
    "        \n",
    "        start_time.append(curr_window_start_time)\n",
    "        \n",
    "        curr_window_start_time += window_size\n",
    "        \n",
    "    return start_time"
   ]
  },
  {
   "cell_type": "code",
   "execution_count": null,
   "metadata": {},
   "outputs": [],
   "source": [
    "print(start_times(df,5))"
   ]
  },
  {
   "cell_type": "markdown",
   "metadata": {},
   "source": [
    "The start_times(DF, window size) function should work as follows:<br>\n",
    "start_times(df,5): <br>\n",
    " \\[0.004,<br>\n",
    " 5.004,<br>\n",
    " 10.004,<br>\n",
    " 15.004,<br>\n",
    " 20.003999999999998,<br>\n",
    " 25.003999999999998,<br>\n",
    " 30.003999999999998, <br>\n",
    " 35.004\\]"
   ]
  },
  {
   "cell_type": "markdown",
   "metadata": {},
   "source": [
    "## Define the function end_times(DF,window size)\n",
    "This function returns an array of end time of each window."
   ]
  },
  {
   "cell_type": "code",
   "execution_count": null,
   "metadata": {},
   "outputs": [],
   "source": [
    "def end_times(DF, window_size):\n",
    "    end_times = []\n",
    "    # Your code below\n",
    "    \n",
    "    \n",
    "    \n",
    "    return end_times"
   ]
  },
  {
   "cell_type": "code",
   "execution_count": null,
   "metadata": {},
   "outputs": [],
   "source": [
    "print(end_times(df,5))"
   ]
  },
  {
   "cell_type": "markdown",
   "metadata": {},
   "source": [
    "The end_times(DF, window size) function should work as follows:<br>\n",
    "end_times(df,5):<br>\n",
    "[5.004,<br>\n",
    " 10.004,<br>\n",
    " 15.004,<br>\n",
    " 20.003999999999998,<br>\n",
    " 25.003999999999998,<br>\n",
    " 30.003999999999998,<br>\n",
    " 35.004,<br>\n",
    " 36.455]"
   ]
  },
  {
   "cell_type": "markdown",
   "metadata": {},
   "source": [
    "## Define the function absAvg(DF,colName,window size) \n",
    "This function stores average value of the attribute colName of each window in the session and returns these values in the form of array."
   ]
  },
  {
   "cell_type": "code",
   "execution_count": null,
   "metadata": {},
   "outputs": [],
   "source": [
    "def absAvg(DF, colName, window_size):\n",
    "    absAvg= []\n",
    "    # Your code below\n",
    "    return absAvg"
   ]
  },
  {
   "cell_type": "code",
   "execution_count": null,
   "metadata": {},
   "outputs": [],
   "source": [
    "print(absAvg(df,'ax',5))"
   ]
  },
  {
   "cell_type": "markdown",
   "metadata": {},
   "source": [
    "The absolute average for the column ax<br>\n",
    "absAvg(df,'ax',5):<br>\n",
    "\n",
    "\\[0.2557098591549294,<br>\n",
    "0.027913516260162596,<br>\n",
    "0.07749013091641493,<br>\n",
    "0.0818867617107942,<br>\n",
    "0.09918034274193542,<br>\n",
    "0.060963673057517744,<br>\n",
    "0.09023529411764705,<br>\n",
    "0.46580448275862063/]"
   ]
  },
  {
   "cell_type": "markdown",
   "metadata": {},
   "source": [
    "## Define the function ZCR(DF,colName,window size)\n",
    "This function returns an array of number of crossings of attribute 'colName' of each window. A crossing is defined as an evnt where consecutive acceleration readings in a window are in opposite directions. Eg: -1, -2.3, +3.2 contains one crossing."
   ]
  },
  {
   "cell_type": "code",
   "execution_count": null,
   "metadata": {},
   "outputs": [],
   "source": [
    "def ZCR(DF, colName, window_size):\n",
    "    zcr_array = []\n",
    "    # Your code here\n",
    "    \n",
    "    \n",
    "    return zcr_array"
   ]
  },
  {
   "cell_type": "code",
   "execution_count": null,
   "metadata": {},
   "outputs": [],
   "source": [
    "print(ZCR(df,'ax',5))"
   ]
  },
  {
   "cell_type": "markdown",
   "metadata": {},
   "source": [
    "The ZCR for the column ax <br>\n",
    "ZCR(df,'ax',5):<br>\n",
    "\\[16.0,<br>\n",
    "33.6,<br>\n",
    "17.6,<br> \n",
    "15.200000000000005,<br>\n",
    "16.6,<br>\n",
    "27.2,<br>\n",
    "27.6,<br>\n",
    "20.675396278428664\\]"
   ]
  },
  {
   "cell_type": "markdown",
   "metadata": {},
   "source": [
    "## Define the function stdDev(DF,colName,window size) \n",
    "This function returns an array of number of standard deviation of attribute 'colName' of each window. "
   ]
  },
  {
   "cell_type": "code",
   "execution_count": null,
   "metadata": {},
   "outputs": [],
   "source": [
    "def stdDev(DF, colName, window_size):\n",
    "    stdDev_array=[]\n",
    "    # Your code here\n",
    "        \n",
    "    return stdDev_array"
   ]
  },
  {
   "cell_type": "code",
   "execution_count": null,
   "metadata": {},
   "outputs": [],
   "source": [
    "print(stdDev(df,'ax',5))"
   ]
  },
  {
   "cell_type": "markdown",
   "metadata": {},
   "source": [
    "The standard deviation for the column ax <br>\n",
    "stdDev(df,'ax',5):<br>\n",
    "\\[0.35800281002884266,<br>\n",
    "0.032613554340864076,<br>\n",
    "0.10002515129609735,<br>\n",
    "0.10281427736076247,<br>\n",
    "0.12642438892389796,<br>\n",
    "0.08806391194224839,<br>\n",
    "0.16876097913127552,<br>\n",
    "0.621746716401305\\]\n"
   ]
  },
  {
   "cell_type": "markdown",
   "metadata": {},
   "source": [
    "## Define the function custMax(DF,colName,window size) \n",
    "This function returns an array of maximum value of attribute 'colName' of each window. "
   ]
  },
  {
   "cell_type": "code",
   "execution_count": null,
   "metadata": {},
   "outputs": [],
   "source": [
    "def custMax(DF, colName, window_size):\n",
    "    custMax_array=[]\n",
    "    # Your code here\n",
    "    \n",
    "    return custMax_array\n",
    "    "
   ]
  },
  {
   "cell_type": "code",
   "execution_count": null,
   "metadata": {},
   "outputs": [],
   "source": [
    "print(custMax(df,'ax',5))"
   ]
  },
  {
   "cell_type": "markdown",
   "metadata": {},
   "source": [
    "The maximum value for the column ax <br>\n",
    "custMax(df,'ax',5):<br>\n",
    "\\[1.5699,<br>\n",
    "0.1516,<br>\n",
    "0.3819,<br>\n",
    "0.3339,<br>\n",
    "0.3824,<br>\n",
    "0.3152,<br>\n",
    "0.9724,<br>\n",
    "1.6735\\]"
   ]
  },
  {
   "cell_type": "markdown",
   "metadata": {},
   "source": [
    "## Define the function minMax(DF,colName,window size)\n",
    "This function returns an array of sum of  maximum and minimum value of attribute 'colName' of each window. "
   ]
  },
  {
   "cell_type": "code",
   "execution_count": null,
   "metadata": {},
   "outputs": [],
   "source": [
    "def minMax(DF, colName, window_size):\n",
    "    minMax_array=[]\n",
    "    #Your code here\n",
    "    \n",
    "    return minMax_array"
   ]
  },
  {
   "cell_type": "code",
   "execution_count": null,
   "metadata": {},
   "outputs": [],
   "source": [
    "print(minMax(df,'ax',5))"
   ]
  },
  {
   "cell_type": "markdown",
   "metadata": {},
   "source": [
    "The minMax value for the column ax<br>\n",
    "minMax(df,'ax',5)<br>\n",
    "\\[0.19640000000000013<br>\n",
    "0.042700000000000016,<br>\n",
    "0.13130000000000003,<br>\n",
    "0.01589999999999997,<br>\n",
    "0.0655,<br>\n",
    "-0.1003,<br>\n",
    "0.07780000000000009,<br>\n",
    "0.2579\\]"
   ]
  },
  {
   "cell_type": "markdown",
   "metadata": {},
   "source": [
    "## Define the function activity_data_to_features(DF, window size) \n",
    "This function returns a dataframe with all tha above features"
   ]
  },
  {
   "cell_type": "code",
   "execution_count": null,
   "metadata": {},
   "outputs": [],
   "source": [
    "def activity_data_to_features(DF, window_size):\n",
    "    featuresDF = pd.DataFrame()\n",
    "    # Your code here\n",
    "    \n",
    "    \n",
    "    return featuresDF\n"
   ]
  },
  {
   "cell_type": "code",
   "execution_count": null,
   "metadata": {},
   "outputs": [],
   "source": [
    "print(activity_data_to_features(df,df.time.max()-df.time.min()))"
   ]
  },
  {
   "cell_type": "markdown",
   "metadata": {},
   "source": [
    "This function should return output as follows:<br>\n",
    "<pre>\n",
    "   start_time  end_time   stdDevX   absAvgX       ZCRX  minMaxX   stdDevY  \\\n",
    "0       0.004    36.455  0.208347  0.113939  21.947272   0.2579  0.334268   \n",
    "\n",
    "    absAvgY       ZCRY  minMaxY   stdDevZ   absAvgZ       ZCRZ  minMaxZ  \\\n",
    "0  0.125064  26.336726   1.7781  0.247517  0.134934  21.014513  -0.0679   \n",
    "\n",
    "     maxX    maxY    maxZ  \n",
    "0  1.6735  5.9876  1.7958</pre>"
   ]
  },
  {
   "cell_type": "markdown",
   "metadata": {},
   "source": [
    "## Define the function convertRawToTrainingInstance(eventWindow, label) exclusively for training files such that it returns a dataframe with all the features mentioned in the activity_data_to features(eventWindow, label) and an additional feature 'activity'  which is given for training files"
   ]
  },
  {
   "cell_type": "code",
   "execution_count": null,
   "metadata": {},
   "outputs": [],
   "source": [
    "\n",
    "def convertRawToTrainingInstance(eventWindow, label):\n",
    "    featuresDFL=pd.DataFrame()\n",
    "    # Your code here\n",
    "  \n",
    "    return featuresDFL"
   ]
  },
  {
   "cell_type": "code",
   "execution_count": null,
   "metadata": {},
   "outputs": [],
   "source": [
    "print(convertRawToTrainingInstance(df,'type'))"
   ]
  },
  {
   "cell_type": "markdown",
   "metadata": {},
   "source": [
    "The output should be as follows:<br>\n",
    "<pre>   start_time  end_time   stdDevX   absAvgX       ZCRX     OSCRX  minMaxX  \\\n",
    "0       0.004    36.455  0.208347  0.113939  21.947272  0.439823   0.2579   \n",
    "\n",
    "    stdDevY   absAvgY       ZCRY    ...     minMaxY   stdDevZ   absAvgZ  \\\n",
    "0  0.334268  0.125064  26.336726    ...      1.7781  0.247517  0.134934   \n",
    "\n",
    "        ZCRZ     OSCRZ  minMaxZ    maxX    maxY    maxZ  activity  \n",
    "0  21.014513  0.459235  -0.0679  1.6735  5.9876  1.7958      type  </pre>"
   ]
  },
  {
   "cell_type": "markdown",
   "metadata": {},
   "source": [
    "## Once you have finished this assignment, please run the following code to submit. You will receive feedback if your code requires improvement. The next module will be unlocked in your Aspiration dashboard automatically if your code meets requirements."
   ]
  },
  {
   "cell_type": "code",
   "execution_count": null,
   "metadata": {},
   "outputs": [],
   "source": [
    "from Submit.Module1_check import check_1\n",
    "check_1(start_times, ZCR, activity_data_to_features)"
   ]
  }
 ],
 "metadata": {
  "kernelspec": {
   "display_name": "Python 3",
   "language": "python",
   "name": "python3"
  },
  "language_info": {
   "codemirror_mode": {
    "name": "ipython",
    "version": 3
   },
   "file_extension": ".py",
   "mimetype": "text/x-python",
   "name": "python",
   "nbconvert_exporter": "python",
   "pygments_lexer": "ipython3",
   "version": "3.7.4"
  }
 },
 "nbformat": 4,
 "nbformat_minor": 2
}
