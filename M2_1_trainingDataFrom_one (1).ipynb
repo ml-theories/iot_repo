{
  "nbformat": 4,
  "nbformat_minor": 0,
  "metadata": {
    "kernelspec": {
      "display_name": "Python 3",
      "language": "python",
      "name": "python3"
    },
    "language_info": {
      "codemirror_mode": {
        "name": "ipython",
        "version": 3
      },
      "file_extension": ".py",
      "mimetype": "text/x-python",
      "name": "python",
      "nbconvert_exporter": "python",
      "pygments_lexer": "ipython3",
      "version": "3.7.4"
    },
    "colab": {
      "name": "M2_1_trainingDataFrom_one.ipynb",
      "provenance": [],
      "collapsed_sections": []
    }
  },
  "cells": [
    {
      "cell_type": "markdown",
      "metadata": {
        "id": "ufHCb_Q6Q-B7",
        "colab_type": "text"
      },
      "source": [
        "# Import Libraries and functions"
      ]
    },
    {
      "cell_type": "code",
      "metadata": {
        "id": "vqjrCwNKRBbI",
        "colab_type": "code",
        "colab": {
          "base_uri": "https://localhost:8080/",
          "height": 35
        },
        "outputId": "acd23612-004e-4580-eae1-eac3a7c40b04"
      },
      "source": [
        "! pip install import-ipynb"
      ],
      "execution_count": 1,
      "outputs": [
        {
          "output_type": "stream",
          "text": [
            "Requirement already satisfied: import-ipynb in /usr/local/lib/python3.6/dist-packages (0.1.3)\n"
          ],
          "name": "stdout"
        }
      ]
    },
    {
      "cell_type": "code",
      "metadata": {
        "id": "uBj-KSxsRyPS",
        "colab_type": "code",
        "colab": {
          "base_uri": "https://localhost:8080/",
          "height": 52
        },
        "outputId": "a508fa5f-60fe-45ed-f27e-8aa2d19643d1"
      },
      "source": [
        "from google.colab import drive\n",
        "drive.mount(\"mnt\")\n",
        "%cd \"mnt/My Drive/Colab Notebooks\""
      ],
      "execution_count": 2,
      "outputs": [
        {
          "output_type": "stream",
          "text": [
            "Mounted at mnt\n",
            "/content/mnt/My Drive/Colab Notebooks\n"
          ],
          "name": "stdout"
        }
      ]
    },
    {
      "cell_type": "code",
      "metadata": {
        "id": "TUcTm2_oQ-CA",
        "colab_type": "code",
        "colab": {
          "base_uri": "https://localhost:8080/",
          "height": 357
        },
        "outputId": "df955637-5996-4478-8300-8a3d8b9829b3"
      },
      "source": [
        "import pandas as pd\n",
        "import import_ipynb\n",
        "import M1_2_trainingSetPrepHelper\n",
        "from M1_2_trainingSetPrepHelper import convertRawToTrainingInstance"
      ],
      "execution_count": 3,
      "outputs": [
        {
          "output_type": "error",
          "ename": "ModuleNotFoundError",
          "evalue": "ignored",
          "traceback": [
            "\u001b[0;31m---------------------------------------------------------------------------\u001b[0m",
            "\u001b[0;31mModuleNotFoundError\u001b[0m                       Traceback (most recent call last)",
            "\u001b[0;32m<ipython-input-3-b7b9102d640b>\u001b[0m in \u001b[0;36m<module>\u001b[0;34m()\u001b[0m\n\u001b[1;32m      1\u001b[0m \u001b[0;32mimport\u001b[0m \u001b[0mpandas\u001b[0m \u001b[0;32mas\u001b[0m \u001b[0mpd\u001b[0m\u001b[0;34m\u001b[0m\u001b[0;34m\u001b[0m\u001b[0m\n\u001b[1;32m      2\u001b[0m \u001b[0;32mimport\u001b[0m \u001b[0mimport_ipynb\u001b[0m\u001b[0;34m\u001b[0m\u001b[0;34m\u001b[0m\u001b[0m\n\u001b[0;32m----> 3\u001b[0;31m \u001b[0;32mimport\u001b[0m \u001b[0mM1_2_trainingSetPrepHelper\u001b[0m\u001b[0;34m\u001b[0m\u001b[0;34m\u001b[0m\u001b[0m\n\u001b[0m\u001b[1;32m      4\u001b[0m \u001b[0;32mfrom\u001b[0m \u001b[0mM1_2_trainingSetPrepHelper\u001b[0m \u001b[0;32mimport\u001b[0m \u001b[0mconvertRawToTrainingInstance\u001b[0m\u001b[0;34m\u001b[0m\u001b[0;34m\u001b[0m\u001b[0m\n",
            "\u001b[0;31mModuleNotFoundError\u001b[0m: No module named 'M1_2_trainingSetPrepHelper'",
            "",
            "\u001b[0;31m---------------------------------------------------------------------------\u001b[0;32m\nNOTE: If your import is failing due to a missing package, you can\nmanually install dependencies using either !pip or !apt.\n\nTo view examples of installing some common dependencies, click the\n\"Open Examples\" button below.\n\u001b[0;31m---------------------------------------------------------------------------\u001b[0m\n"
          ]
        }
      ]
    },
    {
      "cell_type": "markdown",
      "metadata": {
        "id": "UY-LPXJAQ-CX",
        "colab_type": "text"
      },
      "source": [
        "## This is a basic set up which you would be following for training  file.  Using the waveFormViewer (Module 1 Question 1) of the one.csv file, each event is mentioned for the session. You need to observe the waves from the plot and extract the time period of an event.\n"
      ]
    },
    {
      "cell_type": "code",
      "metadata": {
        "id": "47vnpiPdQ-Cb",
        "colab_type": "code",
        "colab": {}
      },
      "source": [
        "def clip(DF, start, end):\n",
        "    \n",
        "    return DF.loc[(DF.time >= start) & (DF.time <= end)]\n",
        "\n",
        "def trainingDataFrom_one():\n",
        "    one = pd.read_csv('one.csv')\n",
        "    trainingSet = pd.DataFrame()\n",
        "    \n",
        "    one_1 = clip(one, 5, 50)\n",
        "\n",
        "# First sit down event. Add features to training set.\n",
        "# ------------------------------------------------------\n",
        "    eventWindow = clip(one_1, 12, 15)\n",
        "    label = 'sitDown'\n",
        "\n",
        "    trainingInstance = convertRawToTrainingInstance(eventWindow, label)\n",
        "    trainingSet = trainingSet.append(trainingInstance)\n",
        "\n",
        "# First doing nothing event. Add features to training set.\n",
        "# -----------------------------------------------------------\n",
        "    eventWindow = clip(one_1, 16, 20)\n",
        "    label = 'rest'\n",
        "\n",
        "    trainingInstance = convertRawToTrainingInstance(eventWindow, label)\n",
        "    trainingSet = trainingSet.append(trainingInstance)\n",
        "\n",
        "# First lyingDown activity. Add features to training set.\n",
        "# ------------------------------------------------------\n",
        "    eventWindow = clip(one_1, 21, 25)\n",
        "    label = 'lieDown'\n",
        "\n",
        "    trainingInstance = convertRawToTrainingInstance(eventWindow, label)\n",
        "    trainingSet = trainingSet.append(trainingInstance)\n",
        "\n",
        "# 1st situp event. Add features to training set.\n",
        "# ------------------------------------------------------\n",
        "    eventWindow = clip(one_1, 35, 41)\n",
        "    label = 'sitUp'\n",
        "\n",
        "    trainingInstance = convertRawToTrainingInstance(eventWindow, label)\n",
        "    trainingSet = trainingSet.append(trainingInstance)\n",
        "\n",
        "# Second doing nothing event. Add features to training set.\n",
        "# -----------------------------------------------------------\n",
        "    eventWindow = clip(one_1, 42, 45)\n",
        "    label = 'rest'\n",
        "\n",
        "    trainingInstance = convertRawToTrainingInstance(eventWindow, label)\n",
        "    trainingSet = trainingSet.append(trainingInstance)\n",
        "\n",
        "# First stand up activity. Add features to training set.\n",
        "# ------------------------------------------------------\n",
        "    eventWindow = clip(one_1, 46, 48)\n",
        "    label ='standUp'\n",
        "\n",
        "    trainingInstance = convertRawToTrainingInstance(eventWindow, label)\n",
        "    trainingSet = trainingSet.append(trainingInstance)\n",
        "\n",
        "\n",
        "    one_2 = clip(one, 51, 100)\n",
        "\n",
        "# Next sit down event. Add features to training set.\n",
        "# ------------------------------------------------------\n",
        "    eventWindow = clip(one_2, 57, 60)\n",
        "    label = 'sitDown'\n",
        "\n",
        "    trainingInstance = convertRawToTrainingInstance(eventWindow, label)\n",
        "    trainingSet = trainingSet.append(trainingInstance)\n",
        "\n",
        "# Another doing nothing event. Add features to training set.\n",
        "# -----------------------------------------------------------\n",
        "    eventWindow = clip(one_2, 61, 64)\n",
        "    label = 'rest'\n",
        "\n",
        "    trainingInstance = convertRawToTrainingInstance(eventWindow, label)\n",
        "    trainingSet = trainingSet.append(trainingInstance)\n",
        "\n",
        "# First lyingDown activity. Add features to training set.\n",
        "# ------------------------------------------------------\n",
        "    eventWindow = clip(one_2, 64, 69)\n",
        "    label = 'lieDown'\n",
        "\n",
        "    trainingInstance = convertRawToTrainingInstance(eventWindow, label)\n",
        "    trainingSet = trainingSet.append(trainingInstance)\n",
        "\n",
        "# 2nd situp event. Add features to training set.\n",
        "# ------------------------------------------------------\n",
        "    eventWindow = clip(one_2, 84, 89)\n",
        "    label = 'sitUp'\n",
        "\n",
        "    trainingInstance = convertRawToTrainingInstance(eventWindow, label)\n",
        "    trainingSet = trainingSet.append(trainingInstance)\n",
        "\n",
        "# Second stand up activity. Add features to training set.\n",
        "# ------------------------------------------------------\n",
        "    eventWindow = clip(one_2, 94, 98)\n",
        "    label = 'standUp'\n",
        "\n",
        "    trainingInstance = convertRawToTrainingInstance(eventWindow, label)\n",
        "    trainingSet = trainingSet.append(trainingInstance)\n",
        "\n",
        "\n",
        "\n",
        "    one_3 = clip(one, 140, 190)\n",
        "\n",
        "# Next sit down event. Add features to training set.\n",
        "# ------------------------------------------------------\n",
        "    eventWindow = clip(one_3, 146, 149)\n",
        "    label = 'sitDown'\n",
        "\n",
        "    trainingInstance = convertRawToTrainingInstance(eventWindow, label)\n",
        "    trainingSet = trainingSet.append(trainingInstance)\n",
        "\n",
        "# Another doing nothing event. Add features to training set.\n",
        "# -----------------------------------------------------------\n",
        "    eventWindow = clip(one_3, 151, 155)\n",
        "    label = 'rest'\n",
        "\n",
        "    trainingInstance = convertRawToTrainingInstance(eventWindow, label)\n",
        "    trainingSet = trainingSet.append(trainingInstance)\n",
        "\n",
        "# First lyingDown activity. Add features to training set.\n",
        "# ------------------------------------------------------\n",
        "    eventWindow = clip(one_3, 155, 159)\n",
        "    label = 'lieDown'\n",
        "    \n",
        "    trainingInstance = convertRawToTrainingInstance(eventWindow, label)\n",
        "    trainingSet = trainingSet.append(trainingInstance)\n",
        "\n",
        "# 2nd situp event. Add features to training set.\n",
        "# ------------------------------------------------------\n",
        "    eventWindow = clip(one_3, 170, 176)\n",
        "    label = 'sitUp'\n",
        "    \n",
        "    trainingInstance = convertRawToTrainingInstance(eventWindow, label)\n",
        "    trainingSet = trainingSet.append(trainingInstance)\n",
        "\n",
        "# Second stand up activity. Add features to training set.\n",
        "# ------------------------------------------------------\n",
        "    eventWindow = clip(one_3, 180, 183)\n",
        "    label = 'standUp'\n",
        "\n",
        "    trainingInstance = convertRawToTrainingInstance(eventWindow, label)\n",
        "    trainingSet = trainingSet.append(trainingInstance)\n",
        "\n",
        "\n",
        "    one_4 = clip(one, 190, 235)\n",
        "\n",
        "# Next sit down event. Add features to training set.\n",
        "# ------------------------------------------------------\n",
        "    eventWindow = clip(one_4, 191, 195)\n",
        "    label = 'sitDown'\n",
        "    \n",
        "    trainingInstance = convertRawToTrainingInstance(eventWindow, label)\n",
        "    trainingSet = trainingSet.append(trainingInstance)\n",
        "    \n",
        "# Another doing nothing event. Add features to training set.\n",
        "# -----------------------------------------------------------\n",
        "    eventWindow = clip(one_4, 204, 210)\n",
        "    label = 'rest'\n",
        "\n",
        "    trainingInstance = convertRawToTrainingInstance(eventWindow, label)\n",
        "    trainingSet = trainingSet.append(trainingInstance)\n",
        "\n",
        "# First lyingDown activity. Add features to training set.\n",
        "# ------------------------------------------------------\n",
        "    eventWindow = clip(one_4, 198, 203)\n",
        "    label = 'lieDown'\n",
        "\n",
        "    trainingInstance = convertRawToTrainingInstance(eventWindow, label)\n",
        "    trainingSet = trainingSet.append(trainingInstance)\n",
        "\n",
        "# 2nd situp event. Add features to training set.\n",
        "# ------------------------------------------------------\n",
        "    eventWindow = clip(one_4, 218, 223)\n",
        "    label ='sitUp'\n",
        "\n",
        "    trainingInstance = convertRawToTrainingInstance(eventWindow, label)\n",
        "    trainingSet = trainingSet.append(trainingInstance)\n",
        "\n",
        "# Second stand up activity. Add features to training set.\n",
        "# ------------------------------------------------------\n",
        "    eventWindow = clip(one_4, 228, 232)\n",
        "    label = 'standUp'\n",
        "\n",
        "    trainingInstance = convertRawToTrainingInstance(eventWindow, label)\n",
        "    trainingSet = trainingSet.append(trainingInstance)\n",
        "\n",
        "    return trainingSet"
      ],
      "execution_count": null,
      "outputs": []
    },
    {
      "cell_type": "code",
      "metadata": {
        "scrolled": true,
        "id": "TPhbXaoXQ-Cl",
        "colab_type": "code",
        "colab": {}
      },
      "source": [
        "print(trainingDataFrom_one())"
      ],
      "execution_count": null,
      "outputs": []
    },
    {
      "cell_type": "markdown",
      "metadata": {
        "id": "o9JxAeesQ-Cz",
        "colab_type": "text"
      },
      "source": [
        "The output of the above function will be as follows:\n",
        "<pre>\n",
        " start_time  end_time   stdDevX   absAvgX       ZCRX  minMaxX   stdDevY  \\\n",
        "0      12.004    14.999  0.450603  0.259309  19.699499   0.2691  1.446332   \n",
        "0      16.000    20.000  0.022752  0.020598  50.750000   0.0189  0.032566   \n",
        "0      21.002    24.999  0.509394  0.367897   8.506380  -0.1009  0.514598   \n",
        "0      35.000    40.998  0.388124  0.263765  14.171390   0.4001  0.323114   \n",
        "0      42.015    44.999  0.037808  0.030835  38.203753   0.0315  0.028755   \n",
        "0      46.003    47.999  0.507259  0.382913   5.010020  -1.5220  1.095204   \n",
        "0      57.004    59.993  0.371232  0.250885   9.033121  -0.0207  1.640425   \n",
        "0      61.005    64.000  0.029614  0.024939  39.065109   0.0013  0.032682   \n",
        "0      64.000    68.997  0.442989  0.283087  13.007805   0.6409  0.346798   \n",
        "0      84.001    88.999  0.465279  0.327646   9.803922   0.5418  0.457399   \n",
        "0      94.001    97.997  0.504692  0.275402  12.762763  -2.1508  0.746593   \n",
        "0     146.002   149.000  0.450502  0.259755  17.011341   0.2691  1.445573   \n",
        "0     151.002   154.999  0.022900  0.019616  52.539405   0.0189  0.032057   \n",
        "0     155.018   158.995  0.509326  0.368334   7.794820  -0.1009  0.513935   \n",
        "0     170.003   175.997  0.388942  0.265982  13.680347   0.4001  0.323144   \n",
        "0     180.006   182.998  0.424577  0.276039   8.689840  -1.5220  0.902374   \n",
        "0     191.008   194.999  0.321764  0.195910  14.783262  -0.0207  1.418648   \n",
        "0     204.001   209.996  0.032187  0.027464  40.700584   0.0246  0.027345   \n",
        "0     198.001   202.992  0.443366  0.282997  13.824885   0.6409  0.347127   \n",
        "0     218.003   222.996  0.465444  0.327594  11.215702   0.5418  0.457779   \n",
        "0     228.003   231.995  0.505736  0.274128  14.779559  -2.1508  0.746413   \n",
        "\n",
        "    absAvgY       ZCRY  minMaxY   stdDevZ   absAvgZ       ZCRZ  minMaxZ  \\\n",
        "0  0.957177   4.674457   2.3720  0.595188  0.397019  11.352254  -0.2657   \n",
        "0  0.028701  36.250000  -0.0194  0.035009  0.031758  38.000000  -0.0399   \n",
        "0  0.354043  10.507881   0.1581  0.463409  0.323143  16.762572  -0.3543   \n",
        "0  0.228858  15.671891  -0.6351  0.402142  0.270474  15.338446   1.0918   \n",
        "0  0.027034  32.171582  -0.0348  0.030812  0.028212  43.900804  -0.0522   \n",
        "0  0.788045   4.509018  -1.1770  0.914032  0.710803   4.509018   2.5729   \n",
        "0  1.091921   3.345601   2.9378  0.553869  0.363437   8.364001  -1.4277   \n",
        "0  0.028097  37.061770  -0.0410  0.036146  0.035091  34.724541  -0.0623   \n",
        "0  0.244696  17.010206  -0.2104  0.414529  0.272217  13.408045   0.1355   \n",
        "0  0.315297  11.204482  -0.4724  0.493927  0.345856   7.803121   0.3442   \n",
        "0  0.414393  14.514515  -0.5118  0.853187  0.437792   6.506507   4.0435   \n",
        "0  0.952479   5.003336   2.3720  0.595132  0.398769   8.672448  -0.2657   \n",
        "0  0.028482  38.528897  -0.0194  0.033136  0.031493  36.777583  -0.0399   \n",
        "0  0.354826   9.052049   0.1581  0.463687  0.323944  14.835303  -0.3543   \n",
        "0  0.230260  12.012012  -0.6351  0.402255  0.270671  15.515516   1.0918   \n",
        "0  0.558305   5.681818  -1.1770  0.784636  0.524436   7.018717   2.5729   \n",
        "0  0.829589   9.521423   2.9378  0.480416  0.286157  12.027061  -1.4277   \n",
        "0  0.022731  42.201835  -0.0255  0.048105  0.041784  31.025855  -0.0718   \n",
        "0  0.245079  15.828491  -0.2104  0.414585  0.270914  14.826688   0.1355   \n",
        "0  0.315320  11.415982  -0.4724  0.494566  0.345196   9.212898   0.3442   \n",
        "0  0.414271  15.531062  -0.5118  0.853557  0.436448   8.767535   4.0435   \n",
        "\n",
        "     maxX    maxY    maxZ activity  \n",
        "0  1.9816  5.7291  1.4240  sitDown  \n",
        "0  0.0829  0.0887  0.1505     rest  \n",
        "0  1.5834  1.6121  1.3107  lieDown  \n",
        "0  1.5398  0.9027  2.2550    sitUp  \n",
        "0  0.1307  0.0668  0.0636     rest  \n",
        "0  0.5732  2.1550  3.7877  standUp  \n",
        "0  1.3283  6.2452  1.1705  sitDown  \n",
        "0  0.0884  0.0687  0.0697     rest  \n",
        "0  1.9965  1.0677  1.7170  lieDown  \n",
        "0  1.9123  1.6307  2.1176    sitUp  \n",
        "0  0.9495  1.9409  5.9940  standUp  \n",
        "0  1.9816  5.7291  1.4240  sitDown  \n",
        "0  0.0829  0.0887  0.1505     rest  \n",
        "0  1.5834  1.6121  1.3107  lieDown  \n",
        "0  1.5398  0.9027  2.2550    sitUp  \n",
        "0  0.5732  2.1550  3.7877  standUp  \n",
        "0  1.3283  6.2452  1.1705  sitDown  \n",
        "0  0.1278  0.0731  0.2330     rest  \n",
        "0  1.9965  1.0677  1.7170  lieDown  \n",
        "0  1.9123  1.6307  2.1176    sitUp  \n",
        "0  0.9495  1.9409  5.9940  standUp  </pre>"
      ]
    },
    {
      "cell_type": "code",
      "metadata": {
        "id": "tADomxL-Q-C2",
        "colab_type": "code",
        "colab": {}
      },
      "source": [
        ""
      ],
      "execution_count": null,
      "outputs": []
    }
  ]
}